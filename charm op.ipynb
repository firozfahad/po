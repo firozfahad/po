{
 "cells": [
  {
   "cell_type": "code",
   "execution_count": null,
   "metadata": {},
   "outputs": [],
   "source": [
    "#Sequence Balance:\n",
    "# Task 1: Check if a sequence is left-heavy, right-heavy, or balanced.\n",
    "def sequence_balance(sequence):\n",
    "    length = len(sequence)\n",
    "    mid = length // 2\n",
    "    left_sum = sum(sequence[:mid])\n",
    "    right_sum = sum(sequence[mid:])\n",
    "    \n",
    "    if left_sum > right_sum:\n",
    "        return 'Left-heavy'\n",
    "    elif right_sum > left_sum:\n",
    "        return 'Right-heavy'\n",
    "    else:\n",
    "        return 'Balanced'\n"
   ]
  },
  {
   "cell_type": "code",
   "execution_count": null,
   "metadata": {},
   "outputs": [],
   "source": [
    "#Binary Replacement:\n",
    "# Task 2: Replace '1' with 'l' and '0' with 'o' in a text.\n",
    "def replace_binary(text):\n",
    "    return text.replace('1', 'l').replace('0', 'o')\n"
   ]
  },
  {
   "cell_type": "code",
   "execution_count": null,
   "metadata": {},
   "outputs": [],
   "source": [
    "#Election Outcome:\n",
    "# Task 3: Determine the winner of a student election.\n",
    "def outcome(results):\n",
    "    winner = max(results, key=results.get)\n",
    "    return winner\n"
   ]
  },
  {
   "cell_type": "code",
   "execution_count": null,
   "metadata": {},
   "outputs": [],
   "source": [
    "#Phone Number Validation:\n",
    "# Task 4: Validate and create a dictionary for phone numbers.\n",
    "def validate_phone_numbers(phone_numbers):\n",
    "    D = {}\n",
    "    for number in phone_numbers:\n",
    "        if number == 'stop':\n",
    "            break\n",
    "        elif len(number) == 10 and number.startswith('98123') and all(number.count(digit) <= 5 for digit in set(number)):\n",
    "            D[number] = 'valid'\n",
    "        else:\n",
    "            D[number] = 'invalid'\n",
    "    return D\n"
   ]
  }
 ],
 "metadata": {
  "kernelspec": {
   "display_name": "Python 3",
   "language": "python",
   "name": "python3"
  },
  "language_info": {
   "codemirror_mode": {
    "name": "ipython",
    "version": 3
   },
   "file_extension": ".py",
   "mimetype": "text/x-python",
   "name": "python",
   "nbconvert_exporter": "python",
   "pygments_lexer": "ipython3",
   "version": "3.10.11"
  }
 },
 "nbformat": 4,
 "nbformat_minor": 2
}
